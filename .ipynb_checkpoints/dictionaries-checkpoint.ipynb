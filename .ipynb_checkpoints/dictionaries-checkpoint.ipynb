{
 "cells": [
  {
   "cell_type": "code",
   "execution_count": 7,
   "metadata": {},
   "outputs": [
    {
     "name": "stdout",
     "output_type": "stream",
     "text": [
      "name Ola\n",
      "country Poland\n",
      "favorite_number 7\n",
      "name Rachel\n",
      "country NL\n",
      "favorite_number 8\n",
      "name Monica\n",
      "country Swiss\n",
      "favorite_number 4\n",
      "Ola\n",
      "7\n",
      "3\n",
      "5\n",
      "1\n",
      "3\n",
      "5\n"
     ]
    }
   ],
   "source": [
    "# girls = ['Rachel', 'Monica', 'Phoebe', 'Ola', 'You']\n",
    "# for name in girls:\n",
    "#     print(\"Hi \" + name + \", how are you?\")\n",
    "\n",
    "\n",
    "# girls = ['Rachel', 'Monica', 'Phoebe', 'Ola', 'You']\n",
    "# def hi(name):\n",
    "#     print(\"Hi \" + name + \", how are you?\")\n",
    "# for name in girls:\n",
    "#     hi(name)\n",
    "\n",
    "participants = [{'name': 'Ola', 'country': 'Poland', 'favorite_number': 7},\n",
    "                {'name': 'Rachel', 'country': 'NL', 'favorite_number': 8},\n",
    "                {'name': 'Monica', 'country': 'Swiss', 'favorite_number': 4}]\n",
    "\n",
    "for k in participants:\n",
    "    for i in k:\n",
    "        print(i, k[i])\n",
    "\n",
    "\n",
    "data = [{'name': 'Ola', 'a': 7}, {'b': 3}, {'c': 5}]\n",
    "for i in range(len(data)):\n",
    "    for j in data[i]:\n",
    "        print(data[i][j])\n",
    "\n",
    "d = [{'a': 1}, {'b': 3}, {'c': 5}]\n",
    "for i in d:\n",
    "    for j in i:\n",
    "        print(i[j])\n",
    "        \n",
    "        \n",
    "\n"
   ]
  },
  {
   "cell_type": "code",
   "execution_count": 21,
   "metadata": {},
   "outputs": [],
   "source": [
    "li = [{'a':'11', '1b':'roi', '1c':'1r6', 'd': \"1drie\"}, {'aa':'21', 'bb':'2roi', 'cc':'2r6', 'd': \"2drie\"}, \n",
    "      {'aaa':'1', 'bbb':'roi', 'ccc':'r6', 'd': \"drie\"}]"
   ]
  },
  {
   "cell_type": "code",
   "execution_count": 30,
   "metadata": {},
   "outputs": [
    {
     "name": "stdout",
     "output_type": "stream",
     "text": [
      "De key is a en de value is 11\n",
      "De key is 1b en de value is roi\n",
      "De key is 1c en de value is 1r6\n",
      "De key is d en de value is 1drie\n",
      "De key is aa en de value is 21\n",
      "De key is bb en de value is 2roi\n",
      "De key is cc en de value is 2r6\n",
      "De key is d en de value is 2drie\n",
      "De key is aaa en de value is 1\n",
      "De key is bbb en de value is roi\n",
      "De key is ccc en de value is r6\n",
      "De key is d en de value is drie\n"
     ]
    }
   ],
   "source": [
    "for i in li:\n",
    "    for k in i:\n",
    "        print('De key is ' + k + ' en de value is ' + i[k])"
   ]
  },
  {
   "cell_type": "code",
   "execution_count": null,
   "metadata": {},
   "outputs": [],
   "source": []
  }
 ],
 "metadata": {
  "kernelspec": {
   "display_name": "Python 3",
   "language": "python",
   "name": "python3"
  },
  "language_info": {
   "codemirror_mode": {
    "name": "ipython",
    "version": 3
   },
   "file_extension": ".py",
   "mimetype": "text/x-python",
   "name": "python",
   "nbconvert_exporter": "python",
   "pygments_lexer": "ipython3",
   "version": "3.7.0"
  }
 },
 "nbformat": 4,
 "nbformat_minor": 2
}
